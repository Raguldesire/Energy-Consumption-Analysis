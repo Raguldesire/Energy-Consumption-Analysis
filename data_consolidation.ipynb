{
 "cells": [
  {
   "cell_type": "code",
   "execution_count": 9,
   "metadata": {},
   "outputs": [],
   "source": [
    "from pyspark.sql import SparkSession\n",
    "\n",
    "import findspark\n",
    "findspark.init()\n",
    "\n",
    "import pandas as pd\n",
    "\n",
    "spark = SparkSession.builder.appName('Data Consolidation').getOrCreate()"
   ]
  },
  {
   "cell_type": "code",
   "execution_count": 10,
   "metadata": {},
   "outputs": [],
   "source": [
    "def read_excel_sheets(file_path):\n",
    "    for sheet in range(1,11):\n",
    "        df = pd.read_excel(rf'{file_path}', sheet_name = sheet)\n",
    "     \n",
    "        if sheet == 1:\n",
    "            df1 = df\n",
    "        elif sheet == 2:\n",
    "            df2 = df\n",
    "        elif sheet == 3:\n",
    "            df3 = df\n",
    "        elif sheet == 4:\n",
    "            df4 = df\n",
    "        elif sheet == 5:\n",
    "            df5 = df\n",
    "        elif sheet == 6:\n",
    "            df6 = df\n",
    "        elif sheet == 7:\n",
    "            df7 = df\n",
    "        elif sheet == 8:\n",
    "            df8 = df\n",
    "        elif sheet == 9:\n",
    "            df9 = df    \n",
    "        elif sheet == 10:\n",
    "            df10 = df\n",
    "\n",
    "    return df1, df2, df3, df4, df5, df6, df7, df8, df9, df10"
   ]
  },
  {
   "cell_type": "markdown",
   "metadata": {},
   "source": [
    "#### **1. Municipality**"
   ]
  },
  {
   "cell_type": "code",
   "execution_count": 11,
   "metadata": {},
   "outputs": [],
   "source": [
    "df1, df2, df3, df4, df5, df6, df7, df8, df9, df10 = read_excel_sheets(file_path = 'F:\\GUVI_DATA_SCIENCE\\Project\\Energy-Consumption-Analysis\\Datasets\\municipality_and_municipal_service_board(2011-2020).xlsx')"
   ]
  },
  {
   "cell_type": "code",
   "execution_count": 12,
   "metadata": {},
   "outputs": [],
   "source": [
    "df8 = df8.drop('Unnamed: 11', axis = 1)"
   ]
  },
  {
   "cell_type": "code",
   "execution_count": 13,
   "metadata": {},
   "outputs": [],
   "source": [
    "df1['year'] = 2011\n",
    "df2['year'] = 2012\n",
    "df3['year'] = 2013\n",
    "df4['year'] = 2014\n",
    "df5['year'] = 2015\n",
    "df6['year'] = 2016\n",
    "df7['year'] = 2017\n",
    "df8['year'] = 2018\n",
    "df9['year'] = 2019\n",
    "df10['year'] = 2020"
   ]
  },
  {
   "cell_type": "code",
   "execution_count": 14,
   "metadata": {},
   "outputs": [],
   "source": [
    "py_df1 = spark.createDataFrame(df1)\n",
    "py_df2 = spark.createDataFrame(df2)\n",
    "py_df3 = spark.createDataFrame(df3)\n",
    "py_df4 = spark.createDataFrame(df4)\n",
    "py_df5 = spark.createDataFrame(df5)\n",
    "py_df6 = spark.createDataFrame(df6)\n",
    "py_df7 = spark.createDataFrame(df7)\n",
    "py_df8 = spark.createDataFrame(df8)\n",
    "py_df9 = spark.createDataFrame(df9)\n",
    "py_df10 = spark.createDataFrame(df10)"
   ]
  },
  {
   "cell_type": "code",
   "execution_count": 15,
   "metadata": {},
   "outputs": [],
   "source": [
    "merged_df = py_df1.union(py_df2).union(py_df3).union(py_df4).union(py_df5).union(py_df6).union(py_df7).union(py_df8).union(py_df9).union(py_df10)"
   ]
  },
  {
   "cell_type": "code",
   "execution_count": 16,
   "metadata": {},
   "outputs": [
    {
     "data": {
      "text/plain": [
       "111615"
      ]
     },
     "execution_count": 16,
     "metadata": {},
     "output_type": "execute_result"
    }
   ],
   "source": [
    "merged_df.count()"
   ]
  },
  {
   "cell_type": "code",
   "execution_count": 17,
   "metadata": {},
   "outputs": [],
   "source": [
    "df = merged_df.toPandas()"
   ]
  },
  {
   "cell_type": "code",
   "execution_count": 18,
   "metadata": {},
   "outputs": [],
   "source": [
    "df.to_csv(r'F:\\GUVI_DATA_SCIENCE\\Project\\Energy-Consumption-Analysis\\Datasets\\Consolidated\\municipality_merged_df.csv', index = False)"
   ]
  },
  {
   "cell_type": "markdown",
   "metadata": {},
   "source": [
    "#### **2. Educational Institution**"
   ]
  },
  {
   "cell_type": "code",
   "execution_count": 19,
   "metadata": {},
   "outputs": [],
   "source": [
    "df1, df2, df3, df4, df5, df6, df7, df8, df9, df10 = read_excel_sheets(file_path = 'F:\\GUVI_DATA_SCIENCE\\Project\\Energy-Consumption-Analysis\\Datasets\\post_secondary_educational_institution(2011-2020).xlsx')"
   ]
  },
  {
   "cell_type": "code",
   "execution_count": 20,
   "metadata": {},
   "outputs": [],
   "source": [
    "df1['year'] = 2011\n",
    "df2['year'] = 2012\n",
    "df3['year'] = 2013\n",
    "df4['year'] = 2014\n",
    "df5['year'] = 2015\n",
    "df6['year'] = 2016\n",
    "df7['year'] = 2017\n",
    "df8['year'] = 2018\n",
    "df9['year'] = 2019\n",
    "df10['year'] = 2020"
   ]
  },
  {
   "cell_type": "code",
   "execution_count": 21,
   "metadata": {},
   "outputs": [],
   "source": [
    "py_df1 = spark.createDataFrame(df1)\n",
    "py_df2 = spark.createDataFrame(df2)\n",
    "py_df3 = spark.createDataFrame(df3)\n",
    "py_df4 = spark.createDataFrame(df4)\n",
    "py_df5 = spark.createDataFrame(df5)\n",
    "py_df6 = spark.createDataFrame(df6)\n",
    "py_df7 = spark.createDataFrame(df7)\n",
    "py_df8 = spark.createDataFrame(df8)\n",
    "py_df9 = spark.createDataFrame(df9)\n",
    "py_df10 = spark.createDataFrame(df10)"
   ]
  },
  {
   "cell_type": "code",
   "execution_count": 22,
   "metadata": {},
   "outputs": [],
   "source": [
    "merged_df = py_df1.union(py_df2).union(py_df3).union(py_df4).union(py_df5).union(py_df6).union(py_df7).union(py_df8).union(py_df9).union(py_df10)"
   ]
  },
  {
   "cell_type": "code",
   "execution_count": 23,
   "metadata": {},
   "outputs": [
    {
     "data": {
      "text/plain": [
       "8367"
      ]
     },
     "execution_count": 23,
     "metadata": {},
     "output_type": "execute_result"
    }
   ],
   "source": [
    "merged_df.count()"
   ]
  },
  {
   "cell_type": "code",
   "execution_count": 24,
   "metadata": {},
   "outputs": [],
   "source": [
    "df = merged_df.toPandas()"
   ]
  },
  {
   "cell_type": "code",
   "execution_count": 25,
   "metadata": {},
   "outputs": [],
   "source": [
    "df.to_csv(r'F:\\GUVI_DATA_SCIENCE\\Project\\Energy-Consumption-Analysis\\Datasets\\Consolidated\\eductional_merged_df.csv', index = False)"
   ]
  },
  {
   "cell_type": "markdown",
   "metadata": {},
   "source": [
    "#### **3. Public Hospitals**"
   ]
  },
  {
   "cell_type": "code",
   "execution_count": 26,
   "metadata": {},
   "outputs": [],
   "source": [
    "df1, df2, df3, df4, df5, df6, df7, df8, df9, df10 = read_excel_sheets(file_path = 'F:\\GUVI_DATA_SCIENCE\\Project\\Energy-Consumption-Analysis\\Datasets\\public_hospital(2011-2020).xlsx')"
   ]
  },
  {
   "cell_type": "code",
   "execution_count": 27,
   "metadata": {},
   "outputs": [],
   "source": [
    "df1['year'] = 2011\n",
    "df2['year'] = 2012\n",
    "df3['year'] = 2013\n",
    "df4['year'] = 2014\n",
    "df5['year'] = 2015\n",
    "df6['year'] = 2016\n",
    "df7['year'] = 2017\n",
    "df8['year'] = 2018\n",
    "df9['year'] = 2019\n",
    "df10['year'] = 2020"
   ]
  },
  {
   "cell_type": "code",
   "execution_count": 28,
   "metadata": {},
   "outputs": [],
   "source": [
    "py_df1 = spark.createDataFrame(df1)\n",
    "py_df2 = spark.createDataFrame(df2)\n",
    "py_df3 = spark.createDataFrame(df3)\n",
    "py_df4 = spark.createDataFrame(df4)\n",
    "py_df5 = spark.createDataFrame(df5)\n",
    "py_df6 = spark.createDataFrame(df6)\n",
    "py_df7 = spark.createDataFrame(df7)\n",
    "py_df8 = spark.createDataFrame(df8)\n",
    "py_df9 = spark.createDataFrame(df9)\n",
    "py_df10 = spark.createDataFrame(df10)"
   ]
  },
  {
   "cell_type": "code",
   "execution_count": 29,
   "metadata": {},
   "outputs": [],
   "source": [
    "merged_df = py_df1.union(py_df2).union(py_df3).union(py_df4).union(py_df5).union(py_df6).union(py_df7).union(py_df8).union(py_df9).union(py_df10)"
   ]
  },
  {
   "cell_type": "code",
   "execution_count": 30,
   "metadata": {},
   "outputs": [
    {
     "data": {
      "text/plain": [
       "4174"
      ]
     },
     "execution_count": 30,
     "metadata": {},
     "output_type": "execute_result"
    }
   ],
   "source": [
    "merged_df.count()"
   ]
  },
  {
   "cell_type": "code",
   "execution_count": 31,
   "metadata": {},
   "outputs": [],
   "source": [
    "df = merged_df.toPandas()"
   ]
  },
  {
   "cell_type": "code",
   "execution_count": 32,
   "metadata": {},
   "outputs": [],
   "source": [
    "df.to_csv(r'F:\\GUVI_DATA_SCIENCE\\Project\\Energy-Consumption-Analysis\\Datasets\\Consolidated\\publichospitals_merged_df.csv', index = False)"
   ]
  },
  {
   "cell_type": "markdown",
   "metadata": {},
   "source": [
    "#### **4. School Boards**"
   ]
  },
  {
   "cell_type": "code",
   "execution_count": 33,
   "metadata": {},
   "outputs": [],
   "source": [
    "df1, df2, df3, df4, df5, df6, df7, df8, df9, df10 = read_excel_sheets(file_path = 'F:\\GUVI_DATA_SCIENCE\\Project\\Energy-Consumption-Analysis\\Datasets\\school_board_english(2011-2020).xlsx')"
   ]
  },
  {
   "cell_type": "code",
   "execution_count": 34,
   "metadata": {},
   "outputs": [],
   "source": [
    "df1['year'] = 2011\n",
    "df2['year'] = 2012\n",
    "df3['year'] = 2013\n",
    "df4['year'] = 2014\n",
    "df5['year'] = 2015\n",
    "df6['year'] = 2016\n",
    "df7['year'] = 2017\n",
    "df8['year'] = 2018\n",
    "df9['year'] = 2019\n",
    "df10['year'] = 2020"
   ]
  },
  {
   "cell_type": "code",
   "execution_count": 35,
   "metadata": {},
   "outputs": [],
   "source": [
    "py_df1 = spark.createDataFrame(df1)\n",
    "py_df2 = spark.createDataFrame(df2)\n",
    "py_df3 = spark.createDataFrame(df3)\n",
    "py_df4 = spark.createDataFrame(df4)\n",
    "py_df5 = spark.createDataFrame(df5)\n",
    "py_df6 = spark.createDataFrame(df6)\n",
    "py_df7 = spark.createDataFrame(df7)\n",
    "py_df8 = spark.createDataFrame(df8)\n",
    "py_df9 = spark.createDataFrame(df9)\n",
    "py_df10 = spark.createDataFrame(df10)"
   ]
  },
  {
   "cell_type": "code",
   "execution_count": 36,
   "metadata": {},
   "outputs": [],
   "source": [
    "merged_df = py_df1.union(py_df2).union(py_df3).union(py_df4).union(py_df5).union(py_df6).union(py_df7).union(py_df8).union(py_df9).union(py_df10)"
   ]
  },
  {
   "cell_type": "code",
   "execution_count": 37,
   "metadata": {},
   "outputs": [
    {
     "data": {
      "text/plain": [
       "49684"
      ]
     },
     "execution_count": 37,
     "metadata": {},
     "output_type": "execute_result"
    }
   ],
   "source": [
    "merged_df.count()"
   ]
  },
  {
   "cell_type": "code",
   "execution_count": 38,
   "metadata": {},
   "outputs": [],
   "source": [
    "df = merged_df.toPandas()"
   ]
  },
  {
   "cell_type": "code",
   "execution_count": 39,
   "metadata": {},
   "outputs": [],
   "source": [
    "df.to_csv(r'F:\\GUVI_DATA_SCIENCE\\Project\\Energy-Consumption-Analysis\\Datasets\\Consolidated\\schoolboard_merged_df.csv', index = False)"
   ]
  },
  {
   "cell_type": "markdown",
   "metadata": {},
   "source": [
    "#### **Combining all the Dataframes**"
   ]
  },
  {
   "cell_type": "code",
   "execution_count": 40,
   "metadata": {},
   "outputs": [],
   "source": [
    "municipality_df = spark.read.load(r'F:\\GUVI_DATA_SCIENCE\\Project\\Energy-Consumption-Analysis\\Datasets\\Consolidated\\municipality_merged_df.csv', format = 'csv', header = True, inferSchema = True )\n",
    "educational_df = spark.read.load(r'F:\\GUVI_DATA_SCIENCE\\Project\\Energy-Consumption-Analysis\\Datasets\\Consolidated\\eductional_merged_df.csv', format = 'csv', header = True, inferSchema = True )\n",
    "hospitals_df = spark.read.load(r'F:\\GUVI_DATA_SCIENCE\\Project\\Energy-Consumption-Analysis\\Datasets\\Consolidated\\publichospitals_merged_df.csv', format = 'csv', header = True, inferSchema = True )\n",
    "school_df = spark.read.load(r'F:\\GUVI_DATA_SCIENCE\\Project\\Energy-Consumption-Analysis\\Datasets\\Consolidated\\schoolboard_merged_df.csv', format = 'csv', header = True, inferSchema = True )"
   ]
  },
  {
   "cell_type": "code",
   "execution_count": 41,
   "metadata": {},
   "outputs": [],
   "source": [
    "merged_df = municipality_df.union(educational_df).union(hospitals_df).union(school_df)"
   ]
  },
  {
   "cell_type": "code",
   "execution_count": 42,
   "metadata": {},
   "outputs": [
    {
     "data": {
      "text/plain": [
       "173873"
      ]
     },
     "execution_count": 42,
     "metadata": {},
     "output_type": "execute_result"
    }
   ],
   "source": [
    "merged_df.count()"
   ]
  },
  {
   "cell_type": "code",
   "execution_count": 43,
   "metadata": {},
   "outputs": [],
   "source": [
    "df = merged_df.toPandas()"
   ]
  },
  {
   "cell_type": "code",
   "execution_count": null,
   "metadata": {},
   "outputs": [],
   "source": [
    "df.to_csv(r'F:\\GUVI_DATA_SCIENCE\\Project\\Energy-Consumption-Analysis\\Datasets\\Consolidated\\merged_df.csv', index = False)"
   ]
  }
 ],
 "metadata": {
  "kernelspec": {
   "display_name": "env",
   "language": "python",
   "name": "python3"
  },
  "language_info": {
   "codemirror_mode": {
    "name": "ipython",
    "version": 3
   },
   "file_extension": ".py",
   "mimetype": "text/x-python",
   "name": "python",
   "nbconvert_exporter": "python",
   "pygments_lexer": "ipython3",
   "version": "3.11.3"
  }
 },
 "nbformat": 4,
 "nbformat_minor": 2
}
