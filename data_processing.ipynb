{
 "cells": [
  {
   "cell_type": "code",
   "execution_count": 1,
   "metadata": {},
   "outputs": [],
   "source": [
    "from pyspark.sql import SparkSession\n",
    "\n",
    "import findspark\n",
    "findspark.init()\n",
    "\n",
    "spark = SparkSession.builder.appName('Data Processing').getOrCreate()"
   ]
  },
  {
   "cell_type": "markdown",
   "metadata": {},
   "source": [
    "##### **Loading the dataframe**"
   ]
  },
  {
   "cell_type": "code",
   "execution_count": 2,
   "metadata": {},
   "outputs": [],
   "source": [
    "spark_df = spark.read.load(r'F:\\GUVI_DATA_SCIENCE\\Project\\Energy-Consumption-Analysis\\Datasets\\Consolidated\\merged_df.csv', format = 'csv', header = True, inferSchema = True)"
   ]
  },
  {
   "cell_type": "code",
   "execution_count": 3,
   "metadata": {},
   "outputs": [],
   "source": [
    "pandas_df = spark_df.toPandas()"
   ]
  },
  {
   "cell_type": "markdown",
   "metadata": {},
   "source": [
    "##### *Null values*"
   ]
  },
  {
   "cell_type": "code",
   "execution_count": 4,
   "metadata": {},
   "outputs": [
    {
     "name": "stdout",
     "output_type": "stream",
     "text": [
      "<class 'pandas.core.frame.DataFrame'>\n",
      "RangeIndex: 173873 entries, 0 to 173872\n",
      "Data columns (total 12 columns):\n",
      " #   Column                                  Non-Null Count   Dtype  \n",
      "---  ------                                  --------------   -----  \n",
      " 0   Sector                                  173873 non-null  object \n",
      " 1   Sub Sector                              173866 non-null  object \n",
      " 2   Organization                            173866 non-null  object \n",
      " 3   Operation                               173866 non-null  object \n",
      " 4   Operation Type                          173854 non-null  object \n",
      " 5   Address                                 173840 non-null  object \n",
      " 6   City                                    173840 non-null  object \n",
      " 7   Postal Code                             173814 non-null  object \n",
      " 8   2011 GHG Emissions (kg)                 173823 non-null  float64\n",
      " 9   2011 Energy Intensity (eWh/HDD/sq. ft)  157243 non-null  float64\n",
      " 10  2011 Energy Intensity (ekWh/ML)         24198 non-null   float64\n",
      " 11  year                                    173811 non-null  float64\n",
      "dtypes: float64(4), object(8)\n",
      "memory usage: 15.9+ MB\n"
     ]
    }
   ],
   "source": [
    "pandas_df.info()"
   ]
  },
  {
   "cell_type": "code",
   "execution_count": 5,
   "metadata": {},
   "outputs": [],
   "source": [
    "pandas_df = pandas_df.drop('2011 Energy Intensity (ekWh/ML)', axis = 1)"
   ]
  },
  {
   "cell_type": "code",
   "execution_count": 6,
   "metadata": {},
   "outputs": [
    {
     "data": {
      "text/plain": [
       "(173873, 11)"
      ]
     },
     "execution_count": 6,
     "metadata": {},
     "output_type": "execute_result"
    }
   ],
   "source": [
    "pandas_df.shape"
   ]
  },
  {
   "cell_type": "code",
   "execution_count": 7,
   "metadata": {},
   "outputs": [],
   "source": [
    "pandas_df = pandas_df.dropna()"
   ]
  },
  {
   "cell_type": "code",
   "execution_count": 8,
   "metadata": {},
   "outputs": [
    {
     "data": {
      "text/plain": [
       "Sector                                    0\n",
       "Sub Sector                                0\n",
       "Organization                              0\n",
       "Operation                                 0\n",
       "Operation Type                            0\n",
       "Address                                   0\n",
       "City                                      0\n",
       "Postal Code                               0\n",
       "2011 GHG Emissions (kg)                   0\n",
       "2011 Energy Intensity (eWh/HDD/sq. ft)    0\n",
       "year                                      0\n",
       "dtype: int64"
      ]
     },
     "execution_count": 8,
     "metadata": {},
     "output_type": "execute_result"
    }
   ],
   "source": [
    "pandas_df.isnull().sum()"
   ]
  },
  {
   "cell_type": "markdown",
   "metadata": {},
   "source": [
    "##### *Duplicated rows*"
   ]
  },
  {
   "cell_type": "code",
   "execution_count": 9,
   "metadata": {},
   "outputs": [
    {
     "data": {
      "text/plain": [
       "11"
      ]
     },
     "execution_count": 9,
     "metadata": {},
     "output_type": "execute_result"
    }
   ],
   "source": [
    "pandas_df.duplicated().sum()"
   ]
  },
  {
   "cell_type": "code",
   "execution_count": 10,
   "metadata": {},
   "outputs": [],
   "source": [
    "pandas_df = pandas_df.drop_duplicates()"
   ]
  },
  {
   "cell_type": "code",
   "execution_count": 11,
   "metadata": {},
   "outputs": [
    {
     "data": {
      "text/plain": [
       "0"
      ]
     },
     "execution_count": 11,
     "metadata": {},
     "output_type": "execute_result"
    }
   ],
   "source": [
    "pandas_df.duplicated().sum()"
   ]
  },
  {
   "cell_type": "markdown",
   "metadata": {},
   "source": [
    "##### *Renaming Columns*"
   ]
  },
  {
   "cell_type": "code",
   "execution_count": 17,
   "metadata": {},
   "outputs": [],
   "source": [
    "pandas_df = pandas_df.rename(columns = {'2011 GHG Emissions (kg)': 'GHG Emissions(kg)', '2011 Energy Intensity (eWh/HDD/sq. ft)' : 'Energy Intensity(eWh/HDD/sq. ft)'})"
   ]
  },
  {
   "cell_type": "code",
   "execution_count": 20,
   "metadata": {},
   "outputs": [
    {
     "data": {
      "text/html": [
       "<div>\n",
       "<style scoped>\n",
       "    .dataframe tbody tr th:only-of-type {\n",
       "        vertical-align: middle;\n",
       "    }\n",
       "\n",
       "    .dataframe tbody tr th {\n",
       "        vertical-align: top;\n",
       "    }\n",
       "\n",
       "    .dataframe thead th {\n",
       "        text-align: right;\n",
       "    }\n",
       "</style>\n",
       "<table border=\"1\" class=\"dataframe\">\n",
       "  <thead>\n",
       "    <tr style=\"text-align: right;\">\n",
       "      <th></th>\n",
       "      <th>Sector</th>\n",
       "      <th>Sub Sector</th>\n",
       "      <th>Organization</th>\n",
       "      <th>Operation</th>\n",
       "      <th>Operation Type</th>\n",
       "      <th>Address</th>\n",
       "      <th>City</th>\n",
       "      <th>Postal Code</th>\n",
       "      <th>GHG Emissions(kg)</th>\n",
       "      <th>Energy Intensity(eWh/HDD/sq. ft)</th>\n",
       "      <th>year</th>\n",
       "    </tr>\n",
       "  </thead>\n",
       "  <tbody>\n",
       "    <tr>\n",
       "      <th>32528</th>\n",
       "      <td>Municipal</td>\n",
       "      <td>Municipality</td>\n",
       "      <td>Township of Enniskillen</td>\n",
       "      <td>Enniskillen Community Centre</td>\n",
       "      <td>Community centres</td>\n",
       "      <td>3086 Main Street</td>\n",
       "      <td>Oil City</td>\n",
       "      <td>N0N 1N0</td>\n",
       "      <td>10198.949859</td>\n",
       "      <td>9.997987</td>\n",
       "      <td>2013.0</td>\n",
       "    </tr>\n",
       "  </tbody>\n",
       "</table>\n",
       "</div>"
      ],
      "text/plain": [
       "          Sector    Sub Sector             Organization  \\\n",
       "32528  Municipal  Municipality  Township of Enniskillen   \n",
       "\n",
       "                          Operation     Operation Type           Address  \\\n",
       "32528  Enniskillen Community Centre  Community centres  3086 Main Street   \n",
       "\n",
       "           City Postal Code  GHG Emissions(kg)  \\\n",
       "32528  Oil City     N0N 1N0       10198.949859   \n",
       "\n",
       "       Energy Intensity(eWh/HDD/sq. ft)    year  \n",
       "32528                          9.997987  2013.0  "
      ]
     },
     "execution_count": 20,
     "metadata": {},
     "output_type": "execute_result"
    }
   ],
   "source": [
    "pandas_df.sample()"
   ]
  },
  {
   "cell_type": "markdown",
   "metadata": {},
   "source": [
    "##### *Changing datatype of year column* "
   ]
  },
  {
   "cell_type": "code",
   "execution_count": 21,
   "metadata": {},
   "outputs": [],
   "source": [
    "pandas_df['year'] = pandas_df['year'].astype(int)"
   ]
  },
  {
   "cell_type": "code",
   "execution_count": 22,
   "metadata": {},
   "outputs": [
    {
     "name": "stdout",
     "output_type": "stream",
     "text": [
      "<class 'pandas.core.series.Series'>\n",
      "Index: 157232 entries, 0 to 173872\n",
      "Series name: year\n",
      "Non-Null Count   Dtype\n",
      "--------------   -----\n",
      "157232 non-null  int32\n",
      "dtypes: int32(1)\n",
      "memory usage: 1.8 MB\n"
     ]
    }
   ],
   "source": [
    "pandas_df['year'].info()"
   ]
  },
  {
   "cell_type": "markdown",
   "metadata": {},
   "source": [
    "##### *Saving to a Csv File*"
   ]
  },
  {
   "cell_type": "code",
   "execution_count": 23,
   "metadata": {},
   "outputs": [],
   "source": [
    "pandas_df.to_csv(r'F:\\GUVI_DATA_SCIENCE\\Project\\Energy-Consumption-Analysis\\Datasets\\Processed\\processed_dataset.csv', index = False)"
   ]
  }
 ],
 "metadata": {
  "kernelspec": {
   "display_name": "env",
   "language": "python",
   "name": "python3"
  },
  "language_info": {
   "codemirror_mode": {
    "name": "ipython",
    "version": 3
   },
   "file_extension": ".py",
   "mimetype": "text/x-python",
   "name": "python",
   "nbconvert_exporter": "python",
   "pygments_lexer": "ipython3",
   "version": "3.11.3"
  }
 },
 "nbformat": 4,
 "nbformat_minor": 2
}
